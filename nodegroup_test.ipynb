{
 "cells": [
  {
   "cell_type": "code",
   "execution_count": 1,
   "metadata": {},
   "outputs": [
    {
     "data": {
      "text/plain": [
       "'1.6.1'"
      ]
     },
     "execution_count": 1,
     "metadata": {},
     "output_type": "execute_result"
    }
   ],
   "source": [
    "import mlrun\n",
    "import os\n",
    "mlrun.__version__"
   ]
  },
  {
   "cell_type": "code",
   "execution_count": 2,
   "metadata": {},
   "outputs": [
    {
     "name": "stdout",
     "output_type": "stream",
     "text": [
      "> 2024-06-07 16:50:06,451 [info] Loading project from path: {'project_name': 'nodegroup-test', 'path': './'}\n",
      "> 2024-06-07 16:50:21,964 [info] Project loaded successfully: {'project_name': 'nodegroup-test', 'path': './', 'stored_in_db': True}\n"
     ]
    },
    {
     "data": {
      "text/plain": [
       "<mlrun.projects.project.MlrunProject at 0x7fdd62d4c820>"
      ]
     },
     "execution_count": 2,
     "metadata": {},
     "output_type": "execute_result"
    }
   ],
   "source": [
    "project_name = \"nodegroup-test\"\n",
    "project = mlrun.get_or_create_project(project_name, context=\"./\")\n",
    "git_source =              \"git://github.com/xsqian/mlrun-github-example.git#main\"\n",
    "project.set_source(source=git_source, pull_at_runtime=True)\n",
    "project.save()"
   ]
  },
  {
   "cell_type": "code",
   "execution_count": 3,
   "metadata": {},
   "outputs": [
    {
     "name": "stdout",
     "output_type": "stream",
     "text": [
      "Overwriting functions/nodegroup_test.py\n"
     ]
    }
   ],
   "source": [
    "%%writefile functions/nodegroup_test.py\n",
    "\n",
    "import time\n",
    "import psutil\n",
    "\n",
    "\n",
    "def nodegroup_test(context):\n",
    "    context.logger.info(\"Resource Test!\")\n",
    "    mem = psutil.virtual_memory()\n",
    "    vcpus = psutil.cpu_count(logical=True)\n",
    "    pcpus = psutil.cpu_count(logical=False)\n",
    "    context.logger.info(f\"CPUs virtual  -> {vcpus}\")\n",
    "    context.logger.info(f\"CPUs physical -> {pcpus}\")\n",
    "    context.logger.info(\n",
    "        f\"Memory avlbl  -> {round(mem.available/(1024 * 1024 * 1024), 2)}GB\"\n",
    "    )\n",
    "    context.logger.info(f\"Memory used   -> {round(mem.used/(1024 * 1024 * 1024), 2)}GB\")\n",
    "    context.logger.info(f\"Sleeping 300s\")\n"
   ]
  },
  {
   "cell_type": "code",
   "execution_count": 4,
   "metadata": {},
   "outputs": [
    {
     "data": {
      "text/plain": [
       "'db://nodegroup-test/nodegroup-test:latest'"
      ]
     },
     "execution_count": 4,
     "metadata": {},
     "output_type": "execute_result"
    }
   ],
   "source": [
    "func2 = project.set_function(\n",
    "    name=\"nodegroup-test\",\n",
    "    func=\"functions/nodegroup_test.py\",\n",
    "    kind=\"job\",\n",
    "    image=\"mlrun/mlrun:1.6.1\",\n",
    "    handler=\"nodegroup_test\",\n",
    "    with_repo=True,\n",
    ")\n",
    "func2.with_requests(mem=\"16G\", cpu=2)\n",
    "func2.with_limits(mem=\"32G\", cpu=4)\n",
    "func2.save()"
   ]
  },
  {
   "cell_type": "code",
   "execution_count": 5,
   "metadata": {},
   "outputs": [
    {
     "name": "stdout",
     "output_type": "stream",
     "text": [
      "kind: job\n",
      "metadata:\n",
      "  name: nodegroup-test\n",
      "  tag: latest\n",
      "  project: nodegroup-test\n",
      "  categories: []\n",
      "spec:\n",
      "  command: functions/nodegroup_test.py\n",
      "  args: []\n",
      "  image: mlrun/mlrun:1.6.1\n",
      "  build:\n",
      "    source: ./\n",
      "    commands: []\n",
      "    code_origin: git://github.com/xsqian/mlrun-github-example.git#refs/heads/main#68045eb18ed90f26e8ba469a4258780b59677a5b\n",
      "    requirements: []\n",
      "  description: ''\n",
      "  default_handler: nodegroup_test\n",
      "  disable_auto_mount: false\n",
      "  clone_target_dir: ''\n",
      "  volumes: []\n",
      "  volume_mounts: []\n",
      "  env: []\n",
      "  resources:\n",
      "    requests:\n",
      "      memory: 16G\n",
      "      cpu: 2\n",
      "    limits:\n",
      "      memory: 32G\n",
      "      cpu: 4\n",
      "  node_selector:\n",
      "    app.iguazio.com/node-group: ondemand\n",
      "  priority_class_name: igz-workload-medium\n",
      "  preemption_mode: prevent\n",
      "  state_thresholds:\n",
      "    pending_scheduled: 1h\n",
      "    pending_not_scheduled: '-1'\n",
      "    image_pull_backoff: 1h\n",
      "    executing: 24h\n",
      "  affinity:\n",
      "    nodeAffinity:\n",
      "      requiredDuringSchedulingIgnoredDuringExecution:\n",
      "        nodeSelectorTerms:\n",
      "        - matchExpressions:\n",
      "          - key: app.iguazio.com/lifecycle\n",
      "            operator: NotIn\n",
      "            values:\n",
      "            - preemptible\n",
      "          - key: eks.amazonaws.com/capacityType\n",
      "            operator: NotIn\n",
      "            values:\n",
      "            - SPOT\n",
      "          - key: node-lifecycle\n",
      "            operator: NotIn\n",
      "            values:\n",
      "            - spot\n",
      "  tolerations: null\n",
      "  security_context: {}\n",
      "verbose: false\n",
      "\n"
     ]
    }
   ],
   "source": [
    "print(func2.to_yaml())"
   ]
  },
  {
   "cell_type": "code",
   "execution_count": 16,
   "metadata": {},
   "outputs": [
    {
     "name": "stdout",
     "output_type": "stream",
     "text": [
      "> 2024-06-07 17:59:18,469 [info] Storing function: {'name': 'nodegroup-test-nodegroup-test', 'uid': 'f273d98c4a804a969cd828e43e43bc10', 'db': 'http://mlrun-api:8080'}\n",
      "> 2024-06-07 17:59:18,727 [info] Job is running in the background, pod: nodegroup-test-nodegroup-test-47s86\n",
      "> 2024-06-07 17:59:21,738 [info] extracting source from git://github.com/xsqian/mlrun-github-example.git#main to /mlrun/code\n",
      "> 2024-06-07 17:59:21,799 [info] Resource Test!\n",
      "> 2024-06-07 17:59:21,800 [info] CPUs virtual  -> 16\n",
      "> 2024-06-07 17:59:21,800 [info] CPUs physical -> 8\n",
      "> 2024-06-07 17:59:21,800 [info] Memory avlbl  -> 47.44GB\n",
      "> 2024-06-07 17:59:21,800 [info] Memory used   -> 11.57GB\n",
      "> 2024-06-07 17:59:21,800 [info] Sleeping 300s\n",
      "> 2024-06-07 17:59:21,847 [info] To track results use the CLI: {'info_cmd': 'mlrun get run f273d98c4a804a969cd828e43e43bc10 -p nodegroup-test', 'logs_cmd': 'mlrun logs f273d98c4a804a969cd828e43e43bc10 -p nodegroup-test'}\n",
      "> 2024-06-07 17:59:21,847 [info] Or click for UI: {'ui_url': 'https://dashboard.default-tenant.app.cst-355.iguazio-cd1.com/mlprojects/nodegroup-test/jobs/monitor/f273d98c4a804a969cd828e43e43bc10/overview'}\n",
      "> 2024-06-07 17:59:21,848 [info] Run execution finished: {'status': 'completed', 'name': 'nodegroup-test-nodegroup-test'}\n"
     ]
    },
    {
     "data": {
      "text/html": [
       "<style>\n",
       ".dictlist {\n",
       "  background-color: #4EC64B;\n",
       "  text-align: center;\n",
       "  margin: 4px;\n",
       "  border-radius: 3px; padding: 0px 3px 1px 3px; display: inline-block;}\n",
       ".artifact {\n",
       "  cursor: pointer;\n",
       "  background-color: #4EC64B;\n",
       "  text-align: left;\n",
       "  margin: 4px; border-radius: 3px; padding: 0px 3px 1px 3px; display: inline-block;\n",
       "}\n",
       "div.block.hidden {\n",
       "  display: none;\n",
       "}\n",
       ".clickable {\n",
       "  cursor: pointer;\n",
       "}\n",
       ".ellipsis {\n",
       "  display: inline-block;\n",
       "  max-width: 60px;\n",
       "  white-space: nowrap;\n",
       "  overflow: hidden;\n",
       "  text-overflow: ellipsis;\n",
       "}\n",
       ".master-wrapper {\n",
       "  display: flex;\n",
       "  flex-flow: row nowrap;\n",
       "  justify-content: flex-start;\n",
       "  align-items: stretch;\n",
       "}\n",
       ".master-tbl {\n",
       "  flex: 3\n",
       "}\n",
       ".master-wrapper > div {\n",
       "  margin: 4px;\n",
       "  padding: 10px;\n",
       "}\n",
       "iframe.fileview {\n",
       "  border: 0 none;\n",
       "  height: 100%;\n",
       "  width: 100%;\n",
       "  white-space: pre-wrap;\n",
       "}\n",
       ".pane-header-title {\n",
       "  width: 80%;\n",
       "  font-weight: 500;\n",
       "}\n",
       ".pane-header {\n",
       "  line-height: 1;\n",
       "  background-color: #4EC64B;\n",
       "  padding: 3px;\n",
       "}\n",
       ".pane-header .close {\n",
       "  font-size: 20px;\n",
       "  font-weight: 700;\n",
       "  float: right;\n",
       "  margin-top: -5px;\n",
       "}\n",
       ".master-wrapper .right-pane {\n",
       "  border: 1px inset silver;\n",
       "  width: 40%;\n",
       "  min-height: 300px;\n",
       "  flex: 3\n",
       "  min-width: 500px;\n",
       "}\n",
       ".master-wrapper * {\n",
       "  box-sizing: border-box;\n",
       "}\n",
       "</style><script>\n",
       "function copyToClipboard(fld) {\n",
       "    if (document.queryCommandSupported && document.queryCommandSupported('copy')) {\n",
       "        var textarea = document.createElement('textarea');\n",
       "        textarea.textContent = fld.innerHTML;\n",
       "        textarea.style.position = 'fixed';\n",
       "        document.body.appendChild(textarea);\n",
       "        textarea.select();\n",
       "\n",
       "        try {\n",
       "            return document.execCommand('copy'); // Security exception may be thrown by some browsers.\n",
       "        } catch (ex) {\n",
       "\n",
       "        } finally {\n",
       "            document.body.removeChild(textarea);\n",
       "        }\n",
       "    }\n",
       "}\n",
       "function expandPanel(el) {\n",
       "  const panelName = \"#\" + el.getAttribute('paneName');\n",
       "  console.log(el.title);\n",
       "\n",
       "  document.querySelector(panelName + \"-title\").innerHTML = el.title\n",
       "  iframe = document.querySelector(panelName + \"-body\");\n",
       "\n",
       "  const tblcss = `<style> body { font-family: Arial, Helvetica, sans-serif;}\n",
       "    #csv { margin-bottom: 15px; }\n",
       "    #csv table { border-collapse: collapse;}\n",
       "    #csv table td { padding: 4px 8px; border: 1px solid silver;} </style>`;\n",
       "\n",
       "  function csvToHtmlTable(str) {\n",
       "    return '<div id=\"csv\"><table><tr><td>' +  str.replace(/[\\n\\r]+$/g, '').replace(/[\\n\\r]+/g, '</td></tr><tr><td>')\n",
       "      .replace(/,/g, '</td><td>') + '</td></tr></table></div>';\n",
       "  }\n",
       "\n",
       "  function reqListener () {\n",
       "    if (el.title.endsWith(\".csv\")) {\n",
       "      iframe.setAttribute(\"srcdoc\", tblcss + csvToHtmlTable(this.responseText));\n",
       "    } else {\n",
       "      iframe.setAttribute(\"srcdoc\", this.responseText);\n",
       "    }\n",
       "    console.log(this.responseText);\n",
       "  }\n",
       "\n",
       "  const oReq = new XMLHttpRequest();\n",
       "  oReq.addEventListener(\"load\", reqListener);\n",
       "  oReq.open(\"GET\", el.title);\n",
       "  oReq.send();\n",
       "\n",
       "\n",
       "  //iframe.src = el.title;\n",
       "  const resultPane = document.querySelector(panelName + \"-pane\");\n",
       "  if (resultPane.classList.contains(\"hidden\")) {\n",
       "    resultPane.classList.remove(\"hidden\");\n",
       "  }\n",
       "}\n",
       "function closePanel(el) {\n",
       "  const panelName = \"#\" + el.getAttribute('paneName')\n",
       "  const resultPane = document.querySelector(panelName + \"-pane\");\n",
       "  if (!resultPane.classList.contains(\"hidden\")) {\n",
       "    resultPane.classList.add(\"hidden\");\n",
       "  }\n",
       "}\n",
       "\n",
       "</script>\n",
       "<div class=\"master-wrapper\">\n",
       "  <div class=\"block master-tbl\"><div>\n",
       "<style scoped>\n",
       "    .dataframe tbody tr th:only-of-type {\n",
       "        vertical-align: middle;\n",
       "    }\n",
       "\n",
       "    .dataframe tbody tr th {\n",
       "        vertical-align: top;\n",
       "    }\n",
       "\n",
       "    .dataframe thead th {\n",
       "        text-align: right;\n",
       "    }\n",
       "</style>\n",
       "<table border=\"1\" class=\"dataframe\">\n",
       "  <thead>\n",
       "    <tr style=\"text-align: right;\">\n",
       "      <th>project</th>\n",
       "      <th>uid</th>\n",
       "      <th>iter</th>\n",
       "      <th>start</th>\n",
       "      <th>state</th>\n",
       "      <th>name</th>\n",
       "      <th>labels</th>\n",
       "      <th>inputs</th>\n",
       "      <th>parameters</th>\n",
       "      <th>results</th>\n",
       "      <th>artifacts</th>\n",
       "    </tr>\n",
       "  </thead>\n",
       "  <tbody>\n",
       "    <tr>\n",
       "      <td>nodegroup-test</td>\n",
       "      <td><div title=\"f273d98c4a804a969cd828e43e43bc10\"><a href=\"https://dashboard.default-tenant.app.cst-355.iguazio-cd1.com/mlprojects/nodegroup-test/jobs/monitor/f273d98c4a804a969cd828e43e43bc10/overview\" target=\"_blank\" >...3e43bc10</a></div></td>\n",
       "      <td>0</td>\n",
       "      <td>Jun 07 17:59:21</td>\n",
       "      <td>completed</td>\n",
       "      <td>nodegroup-test-nodegroup-test</td>\n",
       "      <td><div class=\"dictlist\">v3io_user=xingsheng</div><div class=\"dictlist\">kind=job</div><div class=\"dictlist\">owner=xingsheng</div><div class=\"dictlist\">mlrun/client_version=1.6.1</div><div class=\"dictlist\">mlrun/client_python_version=3.9.18</div><div class=\"dictlist\">host=nodegroup-test-nodegroup-test-47s86</div></td>\n",
       "      <td></td>\n",
       "      <td></td>\n",
       "      <td></td>\n",
       "      <td></td>\n",
       "    </tr>\n",
       "  </tbody>\n",
       "</table>\n",
       "</div></div>\n",
       "  <div id=\"resultc6e2b8bc-pane\" class=\"right-pane block hidden\">\n",
       "    <div class=\"pane-header\">\n",
       "      <span id=\"resultc6e2b8bc-title\" class=\"pane-header-title\">Title</span>\n",
       "      <span onclick=\"closePanel(this)\" paneName=\"resultc6e2b8bc\" class=\"close clickable\">&times;</span>\n",
       "    </div>\n",
       "    <iframe class=\"fileview\" id=\"resultc6e2b8bc-body\"></iframe>\n",
       "  </div>\n",
       "</div>\n"
      ],
      "text/plain": [
       "<IPython.core.display.HTML object>"
      ]
     },
     "metadata": {},
     "output_type": "display_data"
    },
    {
     "name": "stdout",
     "output_type": "stream",
     "text": [
      "\n"
     ]
    },
    {
     "data": {
      "text/html": [
       "<b> > to track results use the .show() or .logs() methods  or <a href=\"https://dashboard.default-tenant.app.cst-355.iguazio-cd1.com/mlprojects/nodegroup-test/jobs/monitor/f273d98c4a804a969cd828e43e43bc10/overview\" target=\"_blank\">click here</a> to open in UI</b>"
      ],
      "text/plain": [
       "<IPython.core.display.HTML object>"
      ]
     },
     "metadata": {},
     "output_type": "display_data"
    },
    {
     "name": "stdout",
     "output_type": "stream",
     "text": [
      "> 2024-06-07 17:59:29,880 [info] Run execution finished: {'status': 'completed', 'name': 'nodegroup-test-nodegroup-test'}\n"
     ]
    },
    {
     "data": {
      "text/plain": [
       "<mlrun.model.RunObject at 0x7fdd62c70a00>"
      ]
     },
     "execution_count": 16,
     "metadata": {},
     "output_type": "execute_result"
    }
   ],
   "source": [
    "project.run_function(func2)"
   ]
  },
  {
   "cell_type": "code",
   "execution_count": 58,
   "metadata": {},
   "outputs": [
    {
     "name": "stdout",
     "output_type": "stream",
     "text": [
      "Overwriting workflow/workflow.py\n"
     ]
    }
   ],
   "source": [
    "%%writefile workflow/workflow.py\n",
    "\"\"\" The main workflow of the project\n",
    "\n",
    "This file creates the MLRun pipeline to run the functions\n",
    "in an orchestrated manner\n",
    "\n",
    "\"\"\"\n",
    "\n",
    "from kfp import dsl\n",
    "import mlrun\n",
    "\n",
    "# Create a Kubeflow Pipelines pipeline\n",
    "@dsl.pipeline(name=\"testing-resource\")\n",
    "def test():\n",
    "    project = mlrun.get_current_project()\n",
    "    func = project.get_function(\"nodegroup-test\")\n",
    "    run2 = mlrun.run_function(\n",
    "        name=\"nodegroup-test-run-from-workflow\",\n",
    "        function=func,\n",
    "        auto_build=False,\n",
    "        local=False,\n",
    "    )"
   ]
  },
  {
   "cell_type": "code",
   "execution_count": 59,
   "metadata": {},
   "outputs": [
    {
     "data": {
      "text/plain": [
       "<mlrun.projects.project.MlrunProject at 0x7fdd62d4c820>"
      ]
     },
     "execution_count": 59,
     "metadata": {},
     "output_type": "execute_result"
    }
   ],
   "source": [
    "project.set_workflow(\n",
    "    name=\"workflow\", workflow_path=\"workflow/workflow.py\", handler=\"test\"\n",
    ")\n",
    "project.save()"
   ]
  },
  {
   "cell_type": "code",
   "execution_count": 61,
   "metadata": {},
   "outputs": [
    {
     "name": "stdout",
     "output_type": "stream",
     "text": [
      "> 2024-06-07 22:02:08,131 [warning] WARNING!, You seem to have uncommitted git changes, use .push()\n",
      "> 2024-06-07 22:02:08,133 [info] Submitting remote workflow: {'workflow_engine': 'kfp', 'schedule': '*/10 * * * *', 'project_name': 'nodegroup-test'}\n",
      "> 2024-06-07 22:02:08,343 [info] Workflow scheduled successfully: {'workflow_response': WorkflowResponse(project='nodegroup-test', name='workflow', status='scheduled', run_id=None, schedule='*/10 * * * *')}\n"
     ]
    }
   ],
   "source": [
    "project.run(\n",
    "    name=\"workflow\",\n",
    "    schedule=\"*/10 * * * *\",\n",
    "    dirty=True,\n",
    ")"
   ]
  },
  {
   "cell_type": "code",
   "execution_count": null,
   "metadata": {},
   "outputs": [],
   "source": []
  }
 ],
 "metadata": {
  "kernelspec": {
   "display_name": "mlrun-base",
   "language": "python",
   "name": "conda-env-mlrun-base-py"
  },
  "language_info": {
   "codemirror_mode": {
    "name": "ipython",
    "version": 3
   },
   "file_extension": ".py",
   "mimetype": "text/x-python",
   "name": "python",
   "nbconvert_exporter": "python",
   "pygments_lexer": "ipython3",
   "version": "3.9.18"
  }
 },
 "nbformat": 4,
 "nbformat_minor": 4
}
