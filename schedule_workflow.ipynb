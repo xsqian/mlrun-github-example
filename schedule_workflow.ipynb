{
 "cells": [
  {
   "cell_type": "code",
   "execution_count": null,
   "id": "25e7a236",
   "metadata": {},
   "outputs": [],
   "source": [
    "import mlrun"
   ]
  },
  {
   "cell_type": "code",
   "execution_count": null,
   "id": "fabd7b78",
   "metadata": {},
   "outputs": [],
   "source": [
    "project = mlrun.get_or_create_project(name=\"schedule-workflow\", context=\"./\")"
   ]
  },
  {
   "cell_type": "code",
   "execution_count": null,
   "id": "f565a626-d120-4177-9c79-c60b2cbb9b28",
   "metadata": {},
   "outputs": [],
   "source": [
    "project.set_source(source=\"git://github.com/xsqian/mlrun-github-example.git#main\", pull_at_runtime=True)"
   ]
  },
  {
   "cell_type": "code",
   "execution_count": null,
   "id": "53e53dbf-0847-400c-a909-c829ae3c9a6b",
   "metadata": {},
   "outputs": [],
   "source": [
    "# %%writefile src/func1.py\n",
    "# def handler():\n",
    "#     print(\"inside func1\")\n",
    "#     return \"return from func1\""
   ]
  },
  {
   "cell_type": "code",
   "execution_count": null,
   "id": "0d80a171-848a-4389-8a4b-6edb78c03048",
   "metadata": {},
   "outputs": [],
   "source": [
    "fn = project.set_function(\n",
    "    name=\"function1\",\n",
    "    func=\"src/func1.py\",\n",
    "    kind=\"job\",\n",
    "    image=\"mlrun/mlrun\",\n",
    "    handler=\"handler\",\n",
    "    with_repo=True,\n",
    ")"
   ]
  },
  {
   "cell_type": "code",
   "execution_count": null,
   "id": "d628da75",
   "metadata": {},
   "outputs": [],
   "source": [
    "fn=project.get_function(\"function1\")"
   ]
  },
  {
   "cell_type": "code",
   "execution_count": null,
   "id": "bd0e4ff5",
   "metadata": {},
   "outputs": [],
   "source": [
    "fn.run(local=True)"
   ]
  },
  {
   "cell_type": "code",
   "execution_count": null,
   "id": "dafd5f67-769a-4fe9-ab24-992353262641",
   "metadata": {},
   "outputs": [],
   "source": [
    "%%writefile src/schedule-workflow.py\n",
    "\n",
    "from kfp import dsl\n",
    "import mlrun\n",
    "\n",
    "\n",
    "# Create a Kubeflow Pipelines pipeline\n",
    "@dsl.pipeline(\n",
    "    name=\"scheduled-pipeline\",\n",
    "    description=\"Example of scheduled pipeline\"\n",
    ")\n",
    "def pipeline():\n",
    "    \n",
    "    # Get current project\n",
    "    project = mlrun.get_current_project()\n",
    "\n",
    "    f1 = project.get_function(\"function1\")\n",
    "\n",
    "    # Ingest the data set\n",
    "    f1_rs = project.run_function(\n",
    "        function=f1\n",
    "    )\n",
    "\n",
    "    project.run_function(\n",
    "        function=f1\n",
    "    ).after(f1_rs)"
   ]
  },
  {
   "cell_type": "code",
   "execution_count": null,
   "id": "40d30301",
   "metadata": {},
   "outputs": [],
   "source": [
    "# project.set_workflow(workflow_path='src/schedule-workflow.py',name='testing-schedule',schedule='*/10 * * * *')"
   ]
  },
  {
   "cell_type": "code",
   "execution_count": null,
   "id": "1b965811",
   "metadata": {},
   "outputs": [],
   "source": [
    "project.save()\n",
    "project.run('testing-schedule', watch=True, dirty=False, engine=\"remote\")"
   ]
  },
  {
   "cell_type": "code",
   "execution_count": null,
   "id": "89caf969",
   "metadata": {},
   "outputs": [],
   "source": [
    "project.run('testing-schedule', watch=True, schedule=True)"
   ]
  },
  {
   "cell_type": "code",
   "execution_count": null,
   "id": "51de162e",
   "metadata": {},
   "outputs": [],
   "source": [
    "mlrun.get_run_db().delete_schedule(project=project.name,name='testing-schedule')"
   ]
  },
  {
   "cell_type": "code",
   "execution_count": null,
   "id": "df7ea260",
   "metadata": {},
   "outputs": [],
   "source": []
  }
 ],
 "metadata": {
  "kernelspec": {
   "display_name": "mlrun-base",
   "language": "python",
   "name": "conda-env-mlrun-base-py"
  },
  "language_info": {
   "codemirror_mode": {
    "name": "ipython",
    "version": 3
   },
   "file_extension": ".py",
   "mimetype": "text/x-python",
   "name": "python",
   "nbconvert_exporter": "python",
   "pygments_lexer": "ipython3",
   "version": "3.9.18"
  }
 },
 "nbformat": 4,
 "nbformat_minor": 5
}
