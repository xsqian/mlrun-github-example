{
 "cells": [
  {
   "cell_type": "code",
   "execution_count": 1,
   "id": "0c969a0d-0ef8-4f9a-9ede-bbfa2abc1940",
   "metadata": {},
   "outputs": [
    {
     "name": "stdout",
     "output_type": "stream",
     "text": [
      "1.6.1\n"
     ]
    }
   ],
   "source": [
    "import mlrun\n",
    "print(mlrun.__version__)"
   ]
  },
  {
   "cell_type": "code",
   "execution_count": 3,
   "id": "ece5e5a9-bc64-41b0-bf36-45eb2e4b8053",
   "metadata": {},
   "outputs": [
    {
     "name": "stdout",
     "output_type": "stream",
     "text": [
      "> 2023-08-30 04:25:21,122 [info] Project loaded successfully: {'project_name': 'gitlab-example'}\n"
     ]
    }
   ],
   "source": [
    "project_name = 'github-example'\n",
    "project = mlrun.get_or_create_project(project_name, context=\"./\")\n",
    "project.set_secrets(secrets={\"GIT_TOKEN\" : \"\"}, provider=\"kubernetes\")"
   ]
  },
  {
   "cell_type": "code",
   "execution_count": 4,
   "id": "211f5ec7-266d-4211-bf65-4d3f96351450",
   "metadata": {},
   "outputs": [
    {
     "name": "stdout",
     "output_type": "stream",
     "text": [
      "Overwriting coffeerating-data-generator.py\n"
     ]
    }
   ],
   "source": [
    "%%writefile coffeerating-data-generator.py\n",
    "import pandas as pd\n",
    "from sklearn import model_selection\n",
    "from sklearn.linear_model import LinearRegression\n",
    "\n",
    "def coffeerating_data_generator(context):\n",
    "    raw = pd.read_csv(\"https://raw.githubusercontent.com/rfordatascience/tidytuesday/master/data/2020/2020-07-07/coffee_ratings.csv\")\n",
    "    df = pd.DataFrame(raw)\n",
    "    coffee = pd.DataFrame(df[\n",
    "        [\n",
    "            \"total_cup_points\",\n",
    "            \"aroma\",\n",
    "            \"flavor\",\n",
    "            \"sweetness\",\n",
    "            \"acidity\",\n",
    "            \"body\",\n",
    "            \"uniformity\",\n",
    "            \"balance\",\n",
    "        ]\n",
    "    ])\n",
    "\n",
    "    # mlrun expr \n",
    "    context.log_dataset(\"coffee_dataset\", df=coffee, format='parquet', index=False, artifact_path=context.artifact_subpath('coffee-dataset'))\n",
    "    #context.log_artifact('coffee_dataset', body=raw, format='csv')\n",
    "    return coffee, 'outcome'"
   ]
  },
  {
   "cell_type": "code",
   "execution_count": 5,
   "id": "bbd56f35-a2a8-4fb9-a2b7-40cbf50e666c",
   "metadata": {},
   "outputs": [],
   "source": [
    "coffee_data_gen_fn = project.set_function(name='coffeerating-data-function', \n",
    "                                          kind=\"job\", \n",
    "                                          image=\"mlrun/mlrun:1.4.1\", \n",
    "                                          func='coffeerating-data-generator.py', \n",
    "                                          handler='coffeerating_data_generator', with_repo=False)"
   ]
  },
  {
   "cell_type": "code",
   "execution_count": 6,
   "id": "f51096e2-9b57-4a99-b255-56c0737dbff1",
   "metadata": {},
   "outputs": [
    {
     "name": "stdout",
     "output_type": "stream",
     "text": [
      "> 2023-08-30 04:25:22,789 [info] Storing function: {'name': 'coffeerating-data-function-coffeerating-data-generator', 'uid': 'd533916fbf1f4a5aa62b2fa58d11fbcb', 'db': 'http://mlrun-api:8080'}\n",
      "> 2023-08-30 04:25:23,177 [info] Job is running in the background, pod: coffeerating-data-function-coffeerating-data-generator-59gcf\n",
      "> 2023-08-30 04:25:33,123 [info] Run execution finished: {'status': 'completed', 'name': 'coffeerating-data-function-coffeerating-data-generator'}\n",
      "final state: completed\n"
     ]
    },
    {
     "data": {
      "text/html": [
       "<style>\n",
       ".dictlist {\n",
       "  background-color: #4EC64B;\n",
       "  text-align: center;\n",
       "  margin: 4px;\n",
       "  border-radius: 3px; padding: 0px 3px 1px 3px; display: inline-block;}\n",
       ".artifact {\n",
       "  cursor: pointer;\n",
       "  background-color: #4EC64B;\n",
       "  text-align: left;\n",
       "  margin: 4px; border-radius: 3px; padding: 0px 3px 1px 3px; display: inline-block;\n",
       "}\n",
       "div.block.hidden {\n",
       "  display: none;\n",
       "}\n",
       ".clickable {\n",
       "  cursor: pointer;\n",
       "}\n",
       ".ellipsis {\n",
       "  display: inline-block;\n",
       "  max-width: 60px;\n",
       "  white-space: nowrap;\n",
       "  overflow: hidden;\n",
       "  text-overflow: ellipsis;\n",
       "}\n",
       ".master-wrapper {\n",
       "  display: flex;\n",
       "  flex-flow: row nowrap;\n",
       "  justify-content: flex-start;\n",
       "  align-items: stretch;\n",
       "}\n",
       ".master-tbl {\n",
       "  flex: 3\n",
       "}\n",
       ".master-wrapper > div {\n",
       "  margin: 4px;\n",
       "  padding: 10px;\n",
       "}\n",
       "iframe.fileview {\n",
       "  border: 0 none;\n",
       "  height: 100%;\n",
       "  width: 100%;\n",
       "  white-space: pre-wrap;\n",
       "}\n",
       ".pane-header-title {\n",
       "  width: 80%;\n",
       "  font-weight: 500;\n",
       "}\n",
       ".pane-header {\n",
       "  line-height: 1;\n",
       "  background-color: #4EC64B;\n",
       "  padding: 3px;\n",
       "}\n",
       ".pane-header .close {\n",
       "  font-size: 20px;\n",
       "  font-weight: 700;\n",
       "  float: right;\n",
       "  margin-top: -5px;\n",
       "}\n",
       ".master-wrapper .right-pane {\n",
       "  border: 1px inset silver;\n",
       "  width: 40%;\n",
       "  min-height: 300px;\n",
       "  flex: 3\n",
       "  min-width: 500px;\n",
       "}\n",
       ".master-wrapper * {\n",
       "  box-sizing: border-box;\n",
       "}\n",
       "</style><script>\n",
       "function copyToClipboard(fld) {\n",
       "    if (document.queryCommandSupported && document.queryCommandSupported('copy')) {\n",
       "        var textarea = document.createElement('textarea');\n",
       "        textarea.textContent = fld.innerHTML;\n",
       "        textarea.style.position = 'fixed';\n",
       "        document.body.appendChild(textarea);\n",
       "        textarea.select();\n",
       "\n",
       "        try {\n",
       "            return document.execCommand('copy'); // Security exception may be thrown by some browsers.\n",
       "        } catch (ex) {\n",
       "\n",
       "        } finally {\n",
       "            document.body.removeChild(textarea);\n",
       "        }\n",
       "    }\n",
       "}\n",
       "function expandPanel(el) {\n",
       "  const panelName = \"#\" + el.getAttribute('paneName');\n",
       "  console.log(el.title);\n",
       "\n",
       "  document.querySelector(panelName + \"-title\").innerHTML = el.title\n",
       "  iframe = document.querySelector(panelName + \"-body\");\n",
       "\n",
       "  const tblcss = `<style> body { font-family: Arial, Helvetica, sans-serif;}\n",
       "    #csv { margin-bottom: 15px; }\n",
       "    #csv table { border-collapse: collapse;}\n",
       "    #csv table td { padding: 4px 8px; border: 1px solid silver;} </style>`;\n",
       "\n",
       "  function csvToHtmlTable(str) {\n",
       "    return '<div id=\"csv\"><table><tr><td>' +  str.replace(/[\\n\\r]+$/g, '').replace(/[\\n\\r]+/g, '</td></tr><tr><td>')\n",
       "      .replace(/,/g, '</td><td>') + '</td></tr></table></div>';\n",
       "  }\n",
       "\n",
       "  function reqListener () {\n",
       "    if (el.title.endsWith(\".csv\")) {\n",
       "      iframe.setAttribute(\"srcdoc\", tblcss + csvToHtmlTable(this.responseText));\n",
       "    } else {\n",
       "      iframe.setAttribute(\"srcdoc\", this.responseText);\n",
       "    }\n",
       "    console.log(this.responseText);\n",
       "  }\n",
       "\n",
       "  const oReq = new XMLHttpRequest();\n",
       "  oReq.addEventListener(\"load\", reqListener);\n",
       "  oReq.open(\"GET\", el.title);\n",
       "  oReq.send();\n",
       "\n",
       "\n",
       "  //iframe.src = el.title;\n",
       "  const resultPane = document.querySelector(panelName + \"-pane\");\n",
       "  if (resultPane.classList.contains(\"hidden\")) {\n",
       "    resultPane.classList.remove(\"hidden\");\n",
       "  }\n",
       "}\n",
       "function closePanel(el) {\n",
       "  const panelName = \"#\" + el.getAttribute('paneName')\n",
       "  const resultPane = document.querySelector(panelName + \"-pane\");\n",
       "  if (!resultPane.classList.contains(\"hidden\")) {\n",
       "    resultPane.classList.add(\"hidden\");\n",
       "  }\n",
       "}\n",
       "\n",
       "</script>\n",
       "<div class=\"master-wrapper\">\n",
       "  <div class=\"block master-tbl\"><div>\n",
       "<style scoped>\n",
       "    .dataframe tbody tr th:only-of-type {\n",
       "        vertical-align: middle;\n",
       "    }\n",
       "\n",
       "    .dataframe tbody tr th {\n",
       "        vertical-align: top;\n",
       "    }\n",
       "\n",
       "    .dataframe thead th {\n",
       "        text-align: right;\n",
       "    }\n",
       "</style>\n",
       "<table border=\"1\" class=\"dataframe\">\n",
       "  <thead>\n",
       "    <tr style=\"text-align: right;\">\n",
       "      <th>project</th>\n",
       "      <th>uid</th>\n",
       "      <th>iter</th>\n",
       "      <th>start</th>\n",
       "      <th>state</th>\n",
       "      <th>name</th>\n",
       "      <th>labels</th>\n",
       "      <th>inputs</th>\n",
       "      <th>parameters</th>\n",
       "      <th>results</th>\n",
       "      <th>artifacts</th>\n",
       "    </tr>\n",
       "  </thead>\n",
       "  <tbody>\n",
       "    <tr>\n",
       "      <td>gitlab-example</td>\n",
       "      <td><div title=\"d533916fbf1f4a5aa62b2fa58d11fbcb\"><a href=\"https://dashboard.default-tenant.app.cst-353.iguazio-cd1.com/mlprojects/gitlab-example/jobs/monitor/d533916fbf1f4a5aa62b2fa58d11fbcb/overview\" target=\"_blank\" >...8d11fbcb</a></div></td>\n",
       "      <td>0</td>\n",
       "      <td>Aug 30 04:25:31</td>\n",
       "      <td>completed</td>\n",
       "      <td>coffeerating-data-function-coffeerating-data-generator</td>\n",
       "      <td><div class=\"dictlist\">v3io_user=xingsheng</div><div class=\"dictlist\">kind=job</div><div class=\"dictlist\">owner=xingsheng</div><div class=\"dictlist\">mlrun/client_version=1.4.1</div><div class=\"dictlist\">mlrun/client_python_version=3.9.16</div><div class=\"dictlist\">host=coffeerating-data-function-coffeerating-data-generator-59gcf</div></td>\n",
       "      <td></td>\n",
       "      <td></td>\n",
       "      <td><div class=\"dictlist\">return=(      total_cup_points  aroma  flavor  ...  body  uniformity  balance\\n0                90.58   8.67    8.83  ...  8.50       10.00     8.42\\n1                89.92   8.75    8.67  ...  8.42       10.00     8.42\\n2                89.75   8.42    8.50  ...  8.33       10.00     8.42\\n3                89.00   8.17    8.58  ...  8.50       10.00     8.25\\n4                88.83   8.25    8.50  ...  8.42       10.00     8.33\\n...                ...    ...     ...  ...   ...         ...      ...\\n1334             78.75   7.75    7.58  ...  5.08       10.00     7.83\\n1335             78.08   7.50    7.67  ...  5.17       10.00     5.25\\n1336             77.17   7.33    7.33  ...  7.50        9.33     7.17\\n1337             75.08   7.42    6.83  ...  7.25        9.33     7.00\\n1338             73.75   6.75    6.67  ...  6.92        9.33     6.83\\n\\n[1339 rows x 8 columns], 'outcome')</div></td>\n",
       "      <td><div title=\"v3io:///projects/gitlab-example/artifacts/coffee-dataset/coffeerating-data-function-coffeerating-data-generator/0/coffee_dataset.parquet\">coffee_dataset</div></td>\n",
       "    </tr>\n",
       "  </tbody>\n",
       "</table>\n",
       "</div></div>\n",
       "  <div id=\"result03d5b03a-pane\" class=\"right-pane block hidden\">\n",
       "    <div class=\"pane-header\">\n",
       "      <span id=\"result03d5b03a-title\" class=\"pane-header-title\">Title</span>\n",
       "      <span onclick=\"closePanel(this)\" paneName=\"result03d5b03a\" class=\"close clickable\">&times;</span>\n",
       "    </div>\n",
       "    <iframe class=\"fileview\" id=\"result03d5b03a-body\"></iframe>\n",
       "  </div>\n",
       "</div>\n"
      ],
      "text/plain": [
       "<IPython.core.display.HTML object>"
      ]
     },
     "metadata": {},
     "output_type": "display_data"
    },
    {
     "name": "stdout",
     "output_type": "stream",
     "text": [
      "\n"
     ]
    },
    {
     "data": {
      "text/html": [
       "<b> > to track results use the .show() or .logs() methods  or <a href=\"https://dashboard.default-tenant.app.cst-353.iguazio-cd1.com/mlprojects/gitlab-example/jobs/monitor/d533916fbf1f4a5aa62b2fa58d11fbcb/overview\" target=\"_blank\">click here</a> to open in UI</b>"
      ],
      "text/plain": [
       "<IPython.core.display.HTML object>"
      ]
     },
     "metadata": {},
     "output_type": "display_data"
    },
    {
     "name": "stdout",
     "output_type": "stream",
     "text": [
      "> 2023-08-30 04:25:36,430 [info] Run execution finished: {'status': 'completed', 'name': 'coffeerating-data-function-coffeerating-data-generator'}\n"
     ]
    }
   ],
   "source": [
    "coffee_data_run = project.run_function(coffee_data_gen_fn,local=False)"
   ]
  },
  {
   "cell_type": "code",
   "execution_count": 7,
   "id": "39304d26-7e28-4c30-b4db-09f7ab001991",
   "metadata": {},
   "outputs": [
    {
     "name": "stdout",
     "output_type": "stream",
     "text": [
      "Overwriting trainer.py\n"
     ]
    }
   ],
   "source": [
    "%%writefile trainer.py\n",
    "\n",
    "import pandas as pd\n",
    "from sklearn import model_selection\n",
    "from sklearn.linear_model import LinearRegression\n",
    "import mlrun\n",
    "from mlrun.frameworks.sklearn import apply_mlrun\n",
    "\n",
    "@mlrun.handler()\n",
    "def train(context,\n",
    "    dataset: pd.DataFrame,\n",
    "    model_name: str = \"lr_fit\"\n",
    "    ):\n",
    "    \n",
    "    x = dataset.drop('total_cup_points', axis=1)\n",
    "    y = dataset['total_cup_points']\n",
    "    X_train, X_test, y_train, y_test = model_selection.train_test_split(x, y, test_size=0.2)\n",
    "\n",
    "    model = LinearRegression()\n",
    "\n",
    "    apply_mlrun(model=model, model_name=model_name, x_test=X_test, y_test=y_test)\n",
    "\n",
    "    model.fit(X_train, y_train)\n",
    "\n"
   ]
  },
  {
   "cell_type": "code",
   "execution_count": 8,
   "id": "13b2ccd1-99e7-4457-bc11-e4b5f429cae9",
   "metadata": {},
   "outputs": [],
   "source": [
    "trainer = project.set_function(\"trainer.py\", name=\"coffeerating-trainer\", kind=\"job\", image=\"mlrun/mlrun:1.4.1\", handler=\"train\", with_repo=False)"
   ]
  },
  {
   "cell_type": "code",
   "execution_count": 9,
   "id": "38b4de82-139a-4003-adaf-e3975232993b",
   "metadata": {},
   "outputs": [
    {
     "name": "stdout",
     "output_type": "stream",
     "text": [
      "> 2023-08-30 04:25:36,606 [info] Storing function: {'name': 'coffeerating-trainer-train', 'uid': '7938a5cabfe043318ce34e7631d53545', 'db': 'http://mlrun-api:8080'}\n",
      "> 2023-08-30 04:25:36,915 [info] Job is running in the background, pod: coffeerating-trainer-train-dslhk\n",
      "> 2023-08-30 04:25:42,147 [info] downloading v3io:///projects/gitlab-example/artifacts/coffee-dataset/coffeerating-data-function-coffeerating-data-generator/0/coffee_dataset.parquet to local temp file\n",
      "> 2023-08-30 04:25:43,028 [info] Run execution finished: {'status': 'completed', 'name': 'coffeerating-trainer-train'}\n",
      "final state: completed\n"
     ]
    },
    {
     "data": {
      "text/html": [
       "<style>\n",
       ".dictlist {\n",
       "  background-color: #4EC64B;\n",
       "  text-align: center;\n",
       "  margin: 4px;\n",
       "  border-radius: 3px; padding: 0px 3px 1px 3px; display: inline-block;}\n",
       ".artifact {\n",
       "  cursor: pointer;\n",
       "  background-color: #4EC64B;\n",
       "  text-align: left;\n",
       "  margin: 4px; border-radius: 3px; padding: 0px 3px 1px 3px; display: inline-block;\n",
       "}\n",
       "div.block.hidden {\n",
       "  display: none;\n",
       "}\n",
       ".clickable {\n",
       "  cursor: pointer;\n",
       "}\n",
       ".ellipsis {\n",
       "  display: inline-block;\n",
       "  max-width: 60px;\n",
       "  white-space: nowrap;\n",
       "  overflow: hidden;\n",
       "  text-overflow: ellipsis;\n",
       "}\n",
       ".master-wrapper {\n",
       "  display: flex;\n",
       "  flex-flow: row nowrap;\n",
       "  justify-content: flex-start;\n",
       "  align-items: stretch;\n",
       "}\n",
       ".master-tbl {\n",
       "  flex: 3\n",
       "}\n",
       ".master-wrapper > div {\n",
       "  margin: 4px;\n",
       "  padding: 10px;\n",
       "}\n",
       "iframe.fileview {\n",
       "  border: 0 none;\n",
       "  height: 100%;\n",
       "  width: 100%;\n",
       "  white-space: pre-wrap;\n",
       "}\n",
       ".pane-header-title {\n",
       "  width: 80%;\n",
       "  font-weight: 500;\n",
       "}\n",
       ".pane-header {\n",
       "  line-height: 1;\n",
       "  background-color: #4EC64B;\n",
       "  padding: 3px;\n",
       "}\n",
       ".pane-header .close {\n",
       "  font-size: 20px;\n",
       "  font-weight: 700;\n",
       "  float: right;\n",
       "  margin-top: -5px;\n",
       "}\n",
       ".master-wrapper .right-pane {\n",
       "  border: 1px inset silver;\n",
       "  width: 40%;\n",
       "  min-height: 300px;\n",
       "  flex: 3\n",
       "  min-width: 500px;\n",
       "}\n",
       ".master-wrapper * {\n",
       "  box-sizing: border-box;\n",
       "}\n",
       "</style><script>\n",
       "function copyToClipboard(fld) {\n",
       "    if (document.queryCommandSupported && document.queryCommandSupported('copy')) {\n",
       "        var textarea = document.createElement('textarea');\n",
       "        textarea.textContent = fld.innerHTML;\n",
       "        textarea.style.position = 'fixed';\n",
       "        document.body.appendChild(textarea);\n",
       "        textarea.select();\n",
       "\n",
       "        try {\n",
       "            return document.execCommand('copy'); // Security exception may be thrown by some browsers.\n",
       "        } catch (ex) {\n",
       "\n",
       "        } finally {\n",
       "            document.body.removeChild(textarea);\n",
       "        }\n",
       "    }\n",
       "}\n",
       "function expandPanel(el) {\n",
       "  const panelName = \"#\" + el.getAttribute('paneName');\n",
       "  console.log(el.title);\n",
       "\n",
       "  document.querySelector(panelName + \"-title\").innerHTML = el.title\n",
       "  iframe = document.querySelector(panelName + \"-body\");\n",
       "\n",
       "  const tblcss = `<style> body { font-family: Arial, Helvetica, sans-serif;}\n",
       "    #csv { margin-bottom: 15px; }\n",
       "    #csv table { border-collapse: collapse;}\n",
       "    #csv table td { padding: 4px 8px; border: 1px solid silver;} </style>`;\n",
       "\n",
       "  function csvToHtmlTable(str) {\n",
       "    return '<div id=\"csv\"><table><tr><td>' +  str.replace(/[\\n\\r]+$/g, '').replace(/[\\n\\r]+/g, '</td></tr><tr><td>')\n",
       "      .replace(/,/g, '</td><td>') + '</td></tr></table></div>';\n",
       "  }\n",
       "\n",
       "  function reqListener () {\n",
       "    if (el.title.endsWith(\".csv\")) {\n",
       "      iframe.setAttribute(\"srcdoc\", tblcss + csvToHtmlTable(this.responseText));\n",
       "    } else {\n",
       "      iframe.setAttribute(\"srcdoc\", this.responseText);\n",
       "    }\n",
       "    console.log(this.responseText);\n",
       "  }\n",
       "\n",
       "  const oReq = new XMLHttpRequest();\n",
       "  oReq.addEventListener(\"load\", reqListener);\n",
       "  oReq.open(\"GET\", el.title);\n",
       "  oReq.send();\n",
       "\n",
       "\n",
       "  //iframe.src = el.title;\n",
       "  const resultPane = document.querySelector(panelName + \"-pane\");\n",
       "  if (resultPane.classList.contains(\"hidden\")) {\n",
       "    resultPane.classList.remove(\"hidden\");\n",
       "  }\n",
       "}\n",
       "function closePanel(el) {\n",
       "  const panelName = \"#\" + el.getAttribute('paneName')\n",
       "  const resultPane = document.querySelector(panelName + \"-pane\");\n",
       "  if (!resultPane.classList.contains(\"hidden\")) {\n",
       "    resultPane.classList.add(\"hidden\");\n",
       "  }\n",
       "}\n",
       "\n",
       "</script>\n",
       "<div class=\"master-wrapper\">\n",
       "  <div class=\"block master-tbl\"><div>\n",
       "<style scoped>\n",
       "    .dataframe tbody tr th:only-of-type {\n",
       "        vertical-align: middle;\n",
       "    }\n",
       "\n",
       "    .dataframe tbody tr th {\n",
       "        vertical-align: top;\n",
       "    }\n",
       "\n",
       "    .dataframe thead th {\n",
       "        text-align: right;\n",
       "    }\n",
       "</style>\n",
       "<table border=\"1\" class=\"dataframe\">\n",
       "  <thead>\n",
       "    <tr style=\"text-align: right;\">\n",
       "      <th>project</th>\n",
       "      <th>uid</th>\n",
       "      <th>iter</th>\n",
       "      <th>start</th>\n",
       "      <th>state</th>\n",
       "      <th>name</th>\n",
       "      <th>labels</th>\n",
       "      <th>inputs</th>\n",
       "      <th>parameters</th>\n",
       "      <th>results</th>\n",
       "      <th>artifacts</th>\n",
       "    </tr>\n",
       "  </thead>\n",
       "  <tbody>\n",
       "    <tr>\n",
       "      <td>gitlab-example</td>\n",
       "      <td><div title=\"7938a5cabfe043318ce34e7631d53545\"><a href=\"https://dashboard.default-tenant.app.cst-353.iguazio-cd1.com/mlprojects/gitlab-example/jobs/monitor/7938a5cabfe043318ce34e7631d53545/overview\" target=\"_blank\" >...31d53545</a></div></td>\n",
       "      <td>0</td>\n",
       "      <td>Aug 30 04:25:41</td>\n",
       "      <td>completed</td>\n",
       "      <td>coffeerating-trainer-train</td>\n",
       "      <td><div class=\"dictlist\">v3io_user=xingsheng</div><div class=\"dictlist\">kind=job</div><div class=\"dictlist\">owner=xingsheng</div><div class=\"dictlist\">mlrun/client_version=1.4.1</div><div class=\"dictlist\">mlrun/client_python_version=3.9.16</div><div class=\"dictlist\">host=coffeerating-trainer-train-dslhk</div></td>\n",
       "      <td><div title=\"store://artifacts/gitlab-example/coffeerating-data-function-coffeerating-data-generator_coffee_dataset:d533916fbf1f4a5aa62b2fa58d11fbcb\">dataset</div></td>\n",
       "      <td></td>\n",
       "      <td><div class=\"dictlist\">mean_absolute_error=0.36552623788055605</div><div class=\"dictlist\">r2_score=0.9380282286082497</div><div class=\"dictlist\">root_mean_squared_error=0.6505720930344696</div><div class=\"dictlist\">mean_squared_error=0.42324404823525064</div></td>\n",
       "      <td><div class=\"artifact\" onclick=\"expandPanel(this)\" paneName=\"result44e77982\" title=\"files/v3io/projects/gitlab-example/artifacts/coffeerating-trainer-train/0/feature-importance.html\">feature-importance</div><div title=\"v3io:///projects/gitlab-example/artifacts/coffeerating-trainer-train/0/test_set.parquet\">test_set</div><div title=\"v3io:///projects/gitlab-example/artifacts/coffeerating-trainer-train/0/model/\">model</div></td>\n",
       "    </tr>\n",
       "  </tbody>\n",
       "</table>\n",
       "</div></div>\n",
       "  <div id=\"result44e77982-pane\" class=\"right-pane block hidden\">\n",
       "    <div class=\"pane-header\">\n",
       "      <span id=\"result44e77982-title\" class=\"pane-header-title\">Title</span>\n",
       "      <span onclick=\"closePanel(this)\" paneName=\"result44e77982\" class=\"close clickable\">&times;</span>\n",
       "    </div>\n",
       "    <iframe class=\"fileview\" id=\"result44e77982-body\"></iframe>\n",
       "  </div>\n",
       "</div>\n"
      ],
      "text/plain": [
       "<IPython.core.display.HTML object>"
      ]
     },
     "metadata": {},
     "output_type": "display_data"
    },
    {
     "name": "stdout",
     "output_type": "stream",
     "text": [
      "\n"
     ]
    },
    {
     "data": {
      "text/html": [
       "<b> > to track results use the .show() or .logs() methods  or <a href=\"https://dashboard.default-tenant.app.cst-353.iguazio-cd1.com/mlprojects/gitlab-example/jobs/monitor/7938a5cabfe043318ce34e7631d53545/overview\" target=\"_blank\">click here</a> to open in UI</b>"
      ],
      "text/plain": [
       "<IPython.core.display.HTML object>"
      ]
     },
     "metadata": {},
     "output_type": "display_data"
    },
    {
     "name": "stdout",
     "output_type": "stream",
     "text": [
      "> 2023-08-30 04:25:45,024 [info] Run execution finished: {'status': 'completed', 'name': 'coffeerating-trainer-train'}\n"
     ]
    },
    {
     "data": {
      "text/plain": [
       "{'mean_absolute_error': 0.36552623788055605,\n",
       " 'r2_score': 0.9380282286082497,\n",
       " 'root_mean_squared_error': 0.6505720930344696,\n",
       " 'mean_squared_error': 0.42324404823525064,\n",
       " 'feature-importance': 'v3io:///projects/gitlab-example/artifacts/coffeerating-trainer-train/0/feature-importance.html',\n",
       " 'test_set': 'store://artifacts/gitlab-example/coffeerating-trainer-train_test_set:7938a5cabfe043318ce34e7631d53545',\n",
       " 'model': 'store://artifacts/gitlab-example/lr_fit:7938a5cabfe043318ce34e7631d53545'}"
      ]
     },
     "execution_count": 9,
     "metadata": {},
     "output_type": "execute_result"
    }
   ],
   "source": [
    "trainer_run = project.run_function(\"coffeerating-trainer\", inputs={\"dataset\": coffee_data_run.outputs['coffee_dataset']}, local=False)\n",
    "trainer_run.outputs"
   ]
  },
  {
   "cell_type": "code",
   "execution_count": 10,
   "id": "56856860-a422-45d3-bfe8-14006431fb57",
   "metadata": {},
   "outputs": [
    {
     "name": "stdout",
     "output_type": "stream",
     "text": [
      "Overwriting ./workflow.py\n"
     ]
    }
   ],
   "source": [
    "%%writefile './workflow.py'\n",
    "\n",
    "from kfp import dsl\n",
    "import mlrun\n",
    "\n",
    "# Create a Kubeflow Pipelines pipeline\n",
    "@dsl.pipeline(\n",
    "    name=\"Coffee Rating Pipeline\"\n",
    ")\n",
    "def pipeline():\n",
    "    \n",
    "    # Run the data creationg function\n",
    "    ingest = mlrun.run_function(\n",
    "        \"coffeerating_data_function\",\n",
    "        name=\"coffee-data-generation-step\",\n",
    "        outputs=['coffee_dataset'],\n",
    "        local=False,\n",
    "    )\n",
    "\n",
    "    # Train a model using the trainer function\n",
    "    train = mlrun.run_function(\n",
    "        \"coffeerating-trainer\",\n",
    "        inputs={\"dataset\": ingest.outputs['coffee_dataset']},\n",
    "        outputs=[\"model\"],\n",
    "        local=False\n",
    "    )"
   ]
  },
  {
   "cell_type": "code",
   "execution_count": 11,
   "id": "786360f4-963c-4b76-a00d-79ed85a1cb22",
   "metadata": {},
   "outputs": [],
   "source": [
    "project.set_workflow('main', 'workflow.py')"
   ]
  },
  {
   "cell_type": "code",
   "execution_count": 12,
   "id": "06ed7e03-2e2e-4209-b799-8cb6faeb1533",
   "metadata": {},
   "outputs": [
    {
     "name": "stdout",
     "output_type": "stream",
     "text": [
      "kind: project\n",
      "metadata:\n",
      "  name: gitlab-example\n",
      "  created: '2023-08-30T00:17:24.504000'\n",
      "spec:\n",
      "  functions:\n",
      "  - url: my_job.py\n",
      "    name: greetings\n",
      "    kind: job\n",
      "    image: mlrun/mlrun:1.4.1\n",
      "    handler: handler\n",
      "    with_repo: true\n",
      "  - url: coffeerating-data-generator.py\n",
      "    name: coffeerating-data-function\n",
      "    kind: job\n",
      "    image: mlrun/mlrun:1.4.1\n",
      "    handler: coffeerating_data_generator\n",
      "  - url: trainer.py\n",
      "    name: coffeerating-trainer\n",
      "    kind: job\n",
      "    image: mlrun/mlrun:1.4.1\n",
      "    handler: train\n",
      "  workflows:\n",
      "  - path: workflow.py\n",
      "    name: main\n",
      "  artifacts: []\n",
      "  conda: ''\n",
      "  source: git://gitlab.com/xsqian/mlrun-gitlab-example.git#main\n",
      "  origin_url: git://gitlab.com/xsqian/mlrun-gitlab-example.git#refs/heads/main\n",
      "  load_source_on_run: false\n",
      "  desired_state: online\n",
      "  owner: xingsheng\n",
      "  build:\n",
      "    commands: []\n",
      "    requirements: []\n",
      "  custom_packagers: []\n",
      "status:\n",
      "  state: online\n",
      "\n"
     ]
    }
   ],
   "source": [
    "project.set_source(source=\"git://gitlab.com/xsqian/mlrun-gitlab-example.git#main\", pull_at_runtime=False)\n",
    "print(project.to_yaml())"
   ]
  },
  {
   "cell_type": "code",
   "execution_count": 17,
   "id": "572e4e5f-a5d7-4496-934f-dded4f28a6da",
   "metadata": {},
   "outputs": [
    {
     "data": {
      "text/plain": [
       "<mlrun.projects.project.MlrunProject at 0x7fb4d2d40940>"
      ]
     },
     "execution_count": 17,
     "metadata": {},
     "output_type": "execute_result"
    }
   ],
   "source": [
    "project.save()"
   ]
  },
  {
   "cell_type": "code",
   "execution_count": 13,
   "id": "29cfab7c-c260-4c68-8d19-c71367589a3f",
   "metadata": {},
   "outputs": [
    {
     "name": "stdout",
     "output_type": "stream",
     "text": [
      "> 2023-08-30 04:26:48,081 [warning] WARNING!, you seem to have uncommitted git changes, use .push()\n",
      "> 2023-08-30 04:26:48,086 [info] executing workflow scheduling 'workflow-runner-main' remotely with kfp engine\n",
      "> 2023-08-30 04:26:48,089 [info] Storing function: {'name': 'main', 'uid': '5f0d6f7b583349e2ad98349cb4f13381', 'db': None}\n",
      "> 2023-08-30 04:26:48,698 [info] task schedule modified: {'schedule': '*/10 * * * *', 'project': 'gitlab-example', 'name': 'main'}\n"
     ]
    }
   ],
   "source": [
    "run_id = project.run('main', dirty=True, schedule='*/10 * * * *')"
   ]
  },
  {
   "cell_type": "code",
   "execution_count": null,
   "id": "fe4e7516-19c7-4c07-823c-a609cadf690e",
   "metadata": {},
   "outputs": [],
   "source": []
  }
 ],
 "metadata": {
  "kernelspec": {
   "display_name": "mlrun-base",
   "language": "python",
   "name": "conda-env-mlrun-base-py"
  },
  "language_info": {
   "codemirror_mode": {
    "name": "ipython",
    "version": 3
   },
   "file_extension": ".py",
   "mimetype": "text/x-python",
   "name": "python",
   "nbconvert_exporter": "python",
   "pygments_lexer": "ipython3",
   "version": "3.9.16"
  }
 },
 "nbformat": 4,
 "nbformat_minor": 5
}
