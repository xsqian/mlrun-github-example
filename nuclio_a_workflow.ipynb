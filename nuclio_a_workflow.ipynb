{
 "cells": [
  {
   "cell_type": "code",
   "execution_count": 33,
   "id": "25e7a236",
   "metadata": {},
   "outputs": [],
   "source": [
    "import mlrun"
   ]
  },
  {
   "cell_type": "code",
   "execution_count": 34,
   "id": "fabd7b78",
   "metadata": {},
   "outputs": [
    {
     "name": "stdout",
     "output_type": "stream",
     "text": [
      "> 2025-01-25 04:27:58,194 [info] Project loaded successfully: {\"project_name\":\"schedule-workflow\"}\n"
     ]
    }
   ],
   "source": [
    "project = mlrun.get_or_create_project(name=\"schedule-workflow\", context=\"./\")"
   ]
  },
  {
   "cell_type": "code",
   "execution_count": 35,
   "id": "f565a626-d120-4177-9c79-c60b2cbb9b28",
   "metadata": {},
   "outputs": [],
   "source": [
    "project.set_source(source=\"git://github.com/xsqian/mlrun-github-example.git#main\", pull_at_runtime=True)"
   ]
  },
  {
   "cell_type": "code",
   "execution_count": 36,
   "id": "53e53dbf-0847-400c-a909-c829ae3c9a6b",
   "metadata": {},
   "outputs": [],
   "source": [
    "# %%writefile src/func1.py\n",
    "# def handler():\n",
    "#     print(\"inside func1\")\n",
    "#     return \"return from func1\""
   ]
  },
  {
   "cell_type": "code",
   "execution_count": 37,
   "id": "0d80a171-848a-4389-8a4b-6edb78c03048",
   "metadata": {},
   "outputs": [],
   "source": [
    "fn = project.set_function(\n",
    "    name=\"function1\",\n",
    "    func=\"src/func1.py\",\n",
    "    kind=\"job\",\n",
    "    image=\"mlrun/mlrun\",\n",
    "    handler=\"handler\",\n",
    "    with_repo=True,\n",
    ")"
   ]
  },
  {
   "cell_type": "code",
   "execution_count": 38,
   "id": "d628da75",
   "metadata": {},
   "outputs": [],
   "source": [
    "fn=project.get_function(\"function1\")"
   ]
  },
  {
   "cell_type": "code",
   "execution_count": 39,
   "id": "bd0e4ff5",
   "metadata": {},
   "outputs": [
    {
     "name": "stdout",
     "output_type": "stream",
     "text": [
      "> 2025-01-25 04:28:29,348 [info] Storing function: {\"db\":\"http://mlrun-api:8080\",\"name\":\"function1-handler\",\"uid\":\"4368d401911a46bc9e7e73c039af7af2\"}\n",
      "inside func1\n"
     ]
    },
    {
     "data": {
      "text/html": [
       "<style>\n",
       ".dictlist {\n",
       "  background-color: #4EC64B;\n",
       "  text-align: center;\n",
       "  margin: 4px;\n",
       "  border-radius: 3px; padding: 0px 3px 1px 3px; display: inline-block;}\n",
       ".artifact {\n",
       "  cursor: pointer;\n",
       "  background-color: #4EC64B;\n",
       "  text-align: left;\n",
       "  margin: 4px; border-radius: 3px; padding: 0px 3px 1px 3px; display: inline-block;\n",
       "}\n",
       "div.block.hidden {\n",
       "  display: none;\n",
       "}\n",
       ".clickable {\n",
       "  cursor: pointer;\n",
       "}\n",
       ".ellipsis {\n",
       "  display: inline-block;\n",
       "  max-width: 60px;\n",
       "  white-space: nowrap;\n",
       "  overflow: hidden;\n",
       "  text-overflow: ellipsis;\n",
       "}\n",
       ".master-wrapper {\n",
       "  display: flex;\n",
       "  flex-flow: row nowrap;\n",
       "  justify-content: flex-start;\n",
       "  align-items: stretch;\n",
       "}\n",
       ".master-tbl {\n",
       "  flex: 3\n",
       "}\n",
       ".master-wrapper > div {\n",
       "  margin: 4px;\n",
       "  padding: 10px;\n",
       "}\n",
       "iframe.fileview {\n",
       "  border: 0 none;\n",
       "  height: 100%;\n",
       "  width: 100%;\n",
       "  white-space: pre-wrap;\n",
       "}\n",
       ".pane-header-title {\n",
       "  width: 80%;\n",
       "  font-weight: 500;\n",
       "}\n",
       ".pane-header {\n",
       "  line-height: 1;\n",
       "  background-color: #4EC64B;\n",
       "  padding: 3px;\n",
       "}\n",
       ".pane-header .close {\n",
       "  font-size: 20px;\n",
       "  font-weight: 700;\n",
       "  float: right;\n",
       "  margin-top: -5px;\n",
       "}\n",
       ".master-wrapper .right-pane {\n",
       "  border: 1px inset silver;\n",
       "  width: 40%;\n",
       "  min-height: 300px;\n",
       "  flex: 3\n",
       "  min-width: 500px;\n",
       "}\n",
       ".master-wrapper * {\n",
       "  box-sizing: border-box;\n",
       "}\n",
       "</style><script>\n",
       "function copyToClipboard(fld) {\n",
       "    if (document.queryCommandSupported && document.queryCommandSupported('copy')) {\n",
       "        var textarea = document.createElement('textarea');\n",
       "        textarea.textContent = fld.innerHTML;\n",
       "        textarea.style.position = 'fixed';\n",
       "        document.body.appendChild(textarea);\n",
       "        textarea.select();\n",
       "\n",
       "        try {\n",
       "            return document.execCommand('copy'); // Security exception may be thrown by some browsers.\n",
       "        } catch (ex) {\n",
       "\n",
       "        } finally {\n",
       "            document.body.removeChild(textarea);\n",
       "        }\n",
       "    }\n",
       "}\n",
       "function expandPanel(el) {\n",
       "  const panelName = \"#\" + el.getAttribute('paneName');\n",
       "\n",
       "  // Get the base URL of the current notebook\n",
       "  var baseUrl = window.location.origin;\n",
       "\n",
       "  // Construct the full URL\n",
       "  var fullUrl = new URL(el.title, baseUrl).href;\n",
       "\n",
       "  document.querySelector(panelName + \"-title\").innerHTML = fullUrl\n",
       "  iframe = document.querySelector(panelName + \"-body\");\n",
       "\n",
       "  const tblcss = `<style> body { font-family: Arial, Helvetica, sans-serif;}\n",
       "    #csv { margin-bottom: 15px; }\n",
       "    #csv table { border-collapse: collapse;}\n",
       "    #csv table td { padding: 4px 8px; border: 1px solid silver;} </style>`;\n",
       "\n",
       "  function csvToHtmlTable(str) {\n",
       "    return '<div id=\"csv\"><table><tr><td>' +  str.replace(/[\\n\\r]+$/g, '').replace(/[\\n\\r]+/g, '</td></tr><tr><td>')\n",
       "      .replace(/,/g, '</td><td>') + '</td></tr></table></div>';\n",
       "  }\n",
       "\n",
       "  function reqListener () {\n",
       "    if (fullUrl.endsWith(\".csv\")) {\n",
       "      iframe.setAttribute(\"srcdoc\", tblcss + csvToHtmlTable(this.responseText));\n",
       "    } else {\n",
       "      iframe.setAttribute(\"srcdoc\", this.responseText);\n",
       "    }\n",
       "    console.log(this.responseText);\n",
       "  }\n",
       "\n",
       "  const oReq = new XMLHttpRequest();\n",
       "  oReq.addEventListener(\"load\", reqListener);\n",
       "  oReq.open(\"GET\", fullUrl);\n",
       "  oReq.send();\n",
       "\n",
       "\n",
       "  //iframe.src = fullUrl;\n",
       "  const resultPane = document.querySelector(panelName + \"-pane\");\n",
       "  if (resultPane.classList.contains(\"hidden\")) {\n",
       "    resultPane.classList.remove(\"hidden\");\n",
       "  }\n",
       "}\n",
       "function closePanel(el) {\n",
       "  const panelName = \"#\" + el.getAttribute('paneName')\n",
       "  const resultPane = document.querySelector(panelName + \"-pane\");\n",
       "  if (!resultPane.classList.contains(\"hidden\")) {\n",
       "    resultPane.classList.add(\"hidden\");\n",
       "  }\n",
       "}\n",
       "\n",
       "</script>\n",
       "<div class=\"master-wrapper\">\n",
       "  <div class=\"block master-tbl\"><div>\n",
       "<style scoped>\n",
       "    .dataframe tbody tr th:only-of-type {\n",
       "        vertical-align: middle;\n",
       "    }\n",
       "\n",
       "    .dataframe tbody tr th {\n",
       "        vertical-align: top;\n",
       "    }\n",
       "\n",
       "    .dataframe thead th {\n",
       "        text-align: right;\n",
       "    }\n",
       "</style>\n",
       "<table border=\"1\" class=\"dataframe\">\n",
       "  <thead>\n",
       "    <tr style=\"text-align: right;\">\n",
       "      <th>project</th>\n",
       "      <th>uid</th>\n",
       "      <th>iter</th>\n",
       "      <th>start</th>\n",
       "      <th>state</th>\n",
       "      <th>kind</th>\n",
       "      <th>name</th>\n",
       "      <th>labels</th>\n",
       "      <th>inputs</th>\n",
       "      <th>parameters</th>\n",
       "      <th>results</th>\n",
       "    </tr>\n",
       "  </thead>\n",
       "  <tbody>\n",
       "    <tr>\n",
       "      <td>schedule-workflow</td>\n",
       "      <td><div title=\"4368d401911a46bc9e7e73c039af7af2\"><a href=\"https://dashboard.default-tenant.app.cst-360.iguazio-cd0.com/mlprojects/schedule-workflow/jobs/monitor/4368d401911a46bc9e7e73c039af7af2/overview\" target=\"_blank\" >...39af7af2</a></div></td>\n",
       "      <td>0</td>\n",
       "      <td>Jan 25 04:28:29</td>\n",
       "      <td>completed</td>\n",
       "      <td>run</td>\n",
       "      <td>function1-handler</td>\n",
       "      <td><div class=\"dictlist\">v3io_user=xingsheng</div><div class=\"dictlist\">kind=local</div><div class=\"dictlist\">owner=xingsheng</div><div class=\"dictlist\">host=jupyter-xingsheng-5bb5c47b84-wwljv</div></td>\n",
       "      <td></td>\n",
       "      <td></td>\n",
       "      <td><div class=\"dictlist\">return=return from func1</div></td>\n",
       "    </tr>\n",
       "  </tbody>\n",
       "</table>\n",
       "</div></div>\n",
       "  <div id=\"result4d6b4d94-pane\" class=\"right-pane block hidden\">\n",
       "    <div class=\"pane-header\">\n",
       "      <span id=\"result4d6b4d94-title\" class=\"pane-header-title\">Title</span>\n",
       "      <span onclick=\"closePanel(this)\" paneName=\"result4d6b4d94\" class=\"close clickable\">&times;</span>\n",
       "    </div>\n",
       "    <iframe class=\"fileview\" id=\"result4d6b4d94-body\"></iframe>\n",
       "  </div>\n",
       "</div>\n"
      ],
      "text/plain": [
       "<IPython.core.display.HTML object>"
      ]
     },
     "metadata": {},
     "output_type": "display_data"
    },
    {
     "name": "stdout",
     "output_type": "stream",
     "text": [
      "\n"
     ]
    },
    {
     "data": {
      "text/html": [
       "<b> > to track results use the .show() or .logs() methods  or <a href=\"https://dashboard.default-tenant.app.cst-360.iguazio-cd0.com/mlprojects/schedule-workflow/jobs/monitor/4368d401911a46bc9e7e73c039af7af2/overview\" target=\"_blank\">click here</a> to open in UI</b>"
      ],
      "text/plain": [
       "<IPython.core.display.HTML object>"
      ]
     },
     "metadata": {},
     "output_type": "display_data"
    },
    {
     "name": "stdout",
     "output_type": "stream",
     "text": [
      "> 2025-01-25 04:28:29,641 [info] Run execution finished: {\"name\":\"function1-handler\",\"status\":\"completed\"}\n"
     ]
    },
    {
     "data": {
      "text/plain": [
       "<mlrun.model.RunObject at 0x7f1ed25986a0>"
      ]
     },
     "execution_count": 39,
     "metadata": {},
     "output_type": "execute_result"
    }
   ],
   "source": [
    "fn.run(local=True)"
   ]
  },
  {
   "cell_type": "code",
   "execution_count": 40,
   "id": "dafd5f67-769a-4fe9-ab24-992353262641",
   "metadata": {},
   "outputs": [
    {
     "name": "stdout",
     "output_type": "stream",
     "text": [
      "Overwriting src/schedule-workflow.py\n"
     ]
    }
   ],
   "source": [
    "%%writefile src/schedule-workflow.py\n",
    "\n",
    "from kfp import dsl\n",
    "import mlrun\n",
    "\n",
    "\n",
    "# Create a Kubeflow Pipelines pipeline\n",
    "@dsl.pipeline(\n",
    "    name=\"scheduled-pipeline\",\n",
    "    description=\"Example of scheduled pipeline\"\n",
    ")\n",
    "def pipeline():\n",
    "    \n",
    "    # Get current project\n",
    "    project = mlrun.get_current_project()\n",
    "\n",
    "    f1 = project.get_function(\"function1\")\n",
    "\n",
    "    # Ingest the data set\n",
    "    f1_rs = project.run_function(\n",
    "        function=f1\n",
    "    )\n",
    "\n",
    "    project.run_function(\n",
    "        function=f1\n",
    "    ).after(f1_rs)"
   ]
  },
  {
   "cell_type": "code",
   "execution_count": 41,
   "id": "49819fee-3252-47d8-817e-6805e8681f84",
   "metadata": {},
   "outputs": [
    {
     "data": {
      "text/plain": [
       "<mlrun.projects.project.MlrunProject at 0x7f1e922c6f70>"
      ]
     },
     "execution_count": 41,
     "metadata": {},
     "output_type": "execute_result"
    }
   ],
   "source": [
    "project.set_workflow(name=\"main\", workflow_path=\"src/schedule-workflow.py\")\n",
    "project.save()"
   ]
  },
  {
   "cell_type": "code",
   "execution_count": 43,
   "id": "1b965811",
   "metadata": {},
   "outputs": [
    {
     "name": "stdout",
     "output_type": "stream",
     "text": [
      "> 2025-01-25 04:29:28,231 [warning] WARNING!, You seem to have uncommitted git changes, use .push()\n",
      "> 2025-01-25 04:29:28,233 [info] Submitting remote workflow: {\"project_name\":\"schedule-workflow\",\"schedule\":null,\"workflow_engine\":\"kfp\"}\n"
     ]
    },
    {
     "data": {
      "text/html": [
       "<div>Pipeline running (id=4d1745b6-00ba-46d7-9ad2-241ca2541406), <a href=\"https://dashboard.default-tenant.app.cst-360.iguazio-cd0.com/mlprojects/schedule-workflow/jobs/monitor-workflows/workflow/4d1745b6-00ba-46d7-9ad2-241ca2541406\" target=\"_blank\"><b>click here</b></a> to view the details in MLRun UI</div>"
      ],
      "text/plain": [
       "<IPython.core.display.HTML object>"
      ]
     },
     "metadata": {},
     "output_type": "display_data"
    },
    {
     "data": {
      "image/svg+xml": [
       "<?xml version=\"1.0\" encoding=\"UTF-8\" standalone=\"no\"?>\n",
       "<!DOCTYPE svg PUBLIC \"-//W3C//DTD SVG 1.1//EN\"\n",
       " \"http://www.w3.org/Graphics/SVG/1.1/DTD/svg11.dtd\">\n",
       "<!-- Generated by graphviz version 2.43.0 (0)\n",
       " -->\n",
       "<!-- Title: kfp Pages: 1 -->\n",
       "<svg width=\"8pt\" height=\"8pt\"\n",
       " viewBox=\"0.00 0.00 8.00 8.00\" xmlns=\"http://www.w3.org/2000/svg\" xmlns:xlink=\"http://www.w3.org/1999/xlink\">\n",
       "<g id=\"graph0\" class=\"graph\" transform=\"scale(1 1) rotate(0) translate(4 4)\">\n",
       "<title>kfp</title>\n",
       "<polygon fill=\"white\" stroke=\"transparent\" points=\"-4,4 -4,-4 4,-4 4,4 -4,4\"/>\n",
       "</g>\n",
       "</svg>\n"
      ],
      "text/plain": [
       "<graphviz.graphs.Digraph at 0x7f1e9213f4f0>"
      ]
     },
     "metadata": {},
     "output_type": "display_data"
    },
    {
     "name": "stdout",
     "output_type": "stream",
     "text": [
      "> 2025-01-25 04:29:32,644 [info] Started run workflow schedule-workflow-main with run id = '4d1745b6-00ba-46d7-9ad2-241ca2541406' by remote engine\n",
      "> 2025-01-25 04:29:32,645 [info] Waiting for pipeline run completion: {\"project\":\"schedule-workflow\",\"run_id\":\"4d1745b6-00ba-46d7-9ad2-241ca2541406\"}\n"
     ]
    },
    {
     "data": {
      "image/svg+xml": [
       "<?xml version=\"1.0\" encoding=\"UTF-8\" standalone=\"no\"?>\n",
       "<!DOCTYPE svg PUBLIC \"-//W3C//DTD SVG 1.1//EN\"\n",
       " \"http://www.w3.org/Graphics/SVG/1.1/DTD/svg11.dtd\">\n",
       "<!-- Generated by graphviz version 2.43.0 (0)\n",
       " -->\n",
       "<!-- Title: kfp Pages: 1 -->\n",
       "<svg width=\"135pt\" height=\"116pt\"\n",
       " viewBox=\"0.00 0.00 135.39 116.00\" xmlns=\"http://www.w3.org/2000/svg\" xmlns:xlink=\"http://www.w3.org/1999/xlink\">\n",
       "<g id=\"graph0\" class=\"graph\" transform=\"scale(1 1) rotate(0) translate(4 112)\">\n",
       "<title>kfp</title>\n",
       "<polygon fill=\"white\" stroke=\"transparent\" points=\"-4,4 -4,-112 131.39,-112 131.39,4 -4,4\"/>\n",
       "<!-- scheduled&#45;pipeline&#45;8gd46&#45;2423355891 -->\n",
       "<g id=\"node1\" class=\"node\">\n",
       "<title>scheduled&#45;pipeline&#45;8gd46&#45;2423355891</title>\n",
       "<ellipse fill=\"green\" stroke=\"black\" cx=\"63.69\" cy=\"-18\" rx=\"63.89\" ry=\"18\"/>\n",
       "<text text-anchor=\"middle\" x=\"63.69\" y=\"-14.3\" font-family=\"Times,serif\" font-size=\"14.00\">function1&#45;2</text>\n",
       "</g>\n",
       "<!-- scheduled&#45;pipeline&#45;8gd46&#45;3290131884 -->\n",
       "<g id=\"node2\" class=\"node\">\n",
       "<title>scheduled&#45;pipeline&#45;8gd46&#45;3290131884</title>\n",
       "<ellipse fill=\"green\" stroke=\"black\" cx=\"63.69\" cy=\"-90\" rx=\"54.69\" ry=\"18\"/>\n",
       "<text text-anchor=\"middle\" x=\"63.69\" y=\"-86.3\" font-family=\"Times,serif\" font-size=\"14.00\">function1</text>\n",
       "</g>\n",
       "<!-- scheduled&#45;pipeline&#45;8gd46&#45;3290131884&#45;&gt;scheduled&#45;pipeline&#45;8gd46&#45;2423355891 -->\n",
       "<g id=\"edge1\" class=\"edge\">\n",
       "<title>scheduled&#45;pipeline&#45;8gd46&#45;3290131884&#45;&gt;scheduled&#45;pipeline&#45;8gd46&#45;2423355891</title>\n",
       "<path fill=\"none\" stroke=\"black\" d=\"M63.69,-71.7C63.69,-63.98 63.69,-54.71 63.69,-46.11\"/>\n",
       "<polygon fill=\"black\" stroke=\"black\" points=\"67.19,-46.1 63.69,-36.1 60.19,-46.1 67.19,-46.1\"/>\n",
       "</g>\n",
       "</g>\n",
       "</svg>\n"
      ],
      "text/plain": [
       "<graphviz.graphs.Digraph at 0x7f1ed257f9a0>"
      ]
     },
     "metadata": {},
     "output_type": "display_data"
    },
    {
     "data": {
      "text/html": [
       "<h2>Run Results</h2><h3>[info] Workflow 4d1745b6-00ba-46d7-9ad2-241ca2541406 finished, state=Succeeded</h3><br>click the hyper links below to see detailed results<br><table border=\"1\" class=\"dataframe\">\n",
       "  <thead>\n",
       "    <tr style=\"text-align: right;\">\n",
       "      <th>uid</th>\n",
       "      <th>start</th>\n",
       "      <th>state</th>\n",
       "      <th>kind</th>\n",
       "      <th>name</th>\n",
       "      <th>parameters</th>\n",
       "      <th>results</th>\n",
       "    </tr>\n",
       "  </thead>\n",
       "  <tbody>\n",
       "    <tr>\n",
       "      <td><div title=\"f5a4da4fab8f4f419c645a8e20f83ba0\"><a href=\"https://dashboard.default-tenant.app.cst-360.iguazio-cd0.com/mlprojects/schedule-workflow/jobs/monitor/f5a4da4fab8f4f419c645a8e20f83ba0/overview\" target=\"_blank\" >...20f83ba0</a></div></td>\n",
       "      <td>Jan 25 04:30:07</td>\n",
       "      <td>completed</td>\n",
       "      <td>run</td>\n",
       "      <td>function1</td>\n",
       "      <td></td>\n",
       "      <td><div class=\"dictlist\">return=return from func1</div></td>\n",
       "    </tr>\n",
       "    <tr>\n",
       "      <td><div title=\"2c42c25f3c1047fdb93ba8b14f0a3167\"><a href=\"https://dashboard.default-tenant.app.cst-360.iguazio-cd0.com/mlprojects/schedule-workflow/jobs/monitor/2c42c25f3c1047fdb93ba8b14f0a3167/overview\" target=\"_blank\" >...4f0a3167</a></div></td>\n",
       "      <td>Jan 25 04:29:40</td>\n",
       "      <td>completed</td>\n",
       "      <td>run</td>\n",
       "      <td>function1</td>\n",
       "      <td></td>\n",
       "      <td><div class=\"dictlist\">return=return from func1</div></td>\n",
       "    </tr>\n",
       "  </tbody>\n",
       "</table>"
      ],
      "text/plain": [
       "<IPython.core.display.HTML object>"
      ]
     },
     "metadata": {},
     "output_type": "display_data"
    },
    {
     "data": {
      "text/plain": [
       "4d1745b6-00ba-46d7-9ad2-241ca2541406"
      ]
     },
     "execution_count": 43,
     "metadata": {},
     "output_type": "execute_result"
    }
   ],
   "source": [
    "project.run(name='main', watch=True, dirty=True, engine=\"remote\")"
   ]
  },
  {
   "cell_type": "code",
   "execution_count": 56,
   "id": "89caf969",
   "metadata": {},
   "outputs": [
    {
     "name": "stdout",
     "output_type": "stream",
     "text": [
      "Overwriting src/nucl.py\n"
     ]
    }
   ],
   "source": [
    "%%writefile src/nucl.py\n",
    "import mlrun\n",
    "def handler(context, event):\n",
    "    project = mlrun.get_or_create_project(name=\"schedule-workflow\", context=\"./\")\n",
    "    # project.set_source(source=\"git://github.com/xsqian/mlrun-github-example.git#main\", pull_at_runtime=True)\n",
    "    workflow_instance = project.run(\n",
    "                    name=\"main\",\n",
    "                    watch=False,\n",
    "                    engine=\"remote\"\n",
    "                    )"
   ]
  },
  {
   "cell_type": "code",
   "execution_count": 57,
   "id": "477c33ed-31c4-41e0-a872-ccbb0c77781d",
   "metadata": {},
   "outputs": [
    {
     "name": "stdout",
     "output_type": "stream",
     "text": [
      "> 2025-01-25 06:06:31,982 [info] Starting remote function deploy\n",
      "2025-01-25 06:06:32  (info) Deploying function\n",
      "2025-01-25 06:06:32  (info) Building\n",
      "2025-01-25 06:06:32  (info) Staging files and preparing base images\n",
      "2025-01-25 06:06:32  (warn) Using user provided base image, runtime interpreter version is provided by the base image\n",
      "2025-01-25 06:06:32  (info) Building processor image\n",
      "2025-01-25 06:09:18  (info) Build complete\n",
      "2025-01-25 06:09:26  (info) Function deploy complete\n",
      "> 2025-01-25 06:09:34,103 [info] Successfully deployed function: {\"external_invocation_urls\":[\"schedule-workflow-nuc-a-workflow.default-tenant.app.cst-360.iguazio-cd0.com/\"],\"internal_invocation_urls\":[\"nuclio-schedule-workflow-nuc-a-workflow.default-tenant.svc.cluster.local:8080\"]}\n"
     ]
    },
    {
     "data": {
      "text/plain": [
       "'http://schedule-workflow-nuc-a-workflow.default-tenant.app.cst-360.iguazio-cd0.com/'"
      ]
     },
     "execution_count": 57,
     "metadata": {},
     "output_type": "execute_result"
    }
   ],
   "source": [
    "fn = project.set_function(\n",
    "    name=\"nuc-a-workflow\", \n",
    "    func=\"src/nucl.py\", \n",
    "    kind=\"nuclio\", \n",
    "    image=\"mlrun/mlrun\", \n",
    "    # with_repo=True\n",
    ")\n",
    "\n",
    "fn.deploy()"
   ]
  },
  {
   "cell_type": "code",
   "execution_count": null,
   "id": "df7ea260",
   "metadata": {},
   "outputs": [],
   "source": []
  }
 ],
 "metadata": {
  "kernelspec": {
   "display_name": "mlrun-base",
   "language": "python",
   "name": "conda-env-mlrun-base-py"
  },
  "language_info": {
   "codemirror_mode": {
    "name": "ipython",
    "version": 3
   },
   "file_extension": ".py",
   "mimetype": "text/x-python",
   "name": "python",
   "nbconvert_exporter": "python",
   "pygments_lexer": "ipython3",
   "version": "3.9.18"
  }
 },
 "nbformat": 4,
 "nbformat_minor": 5
}
